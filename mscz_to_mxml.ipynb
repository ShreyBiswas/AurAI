{
 "cells": [
  {
   "cell_type": "code",
   "execution_count": 1,
   "metadata": {},
   "outputs": [],
   "source": [
    "import pandas as pd\n",
    "import requests\n",
    "import zipfile\n",
    "import io\n",
    "import os"
   ]
  },
  {
   "cell_type": "code",
   "execution_count": 2,
   "metadata": {},
   "outputs": [
    {
     "name": "stdout",
     "output_type": "stream",
     "text": [
      "(1621519, 3)\n"
     ]
    },
    {
     "data": {
      "text/html": [
       "<div>\n",
       "<style scoped>\n",
       "    .dataframe tbody tr th:only-of-type {\n",
       "        vertical-align: middle;\n",
       "    }\n",
       "\n",
       "    .dataframe tbody tr th {\n",
       "        vertical-align: top;\n",
       "    }\n",
       "\n",
       "    .dataframe thead th {\n",
       "        text-align: right;\n",
       "    }\n",
       "</style>\n",
       "<table border=\"1\" class=\"dataframe\">\n",
       "  <thead>\n",
       "    <tr style=\"text-align: right;\">\n",
       "      <th></th>\n",
       "      <th>id</th>\n",
       "      <th>ref</th>\n",
       "      <th>path</th>\n",
       "    </tr>\n",
       "  </thead>\n",
       "  <tbody>\n",
       "    <tr>\n",
       "      <th>0</th>\n",
       "      <td>6555648</td>\n",
       "      <td>/ipfs/QmbVaMHLD82LQsDyXSiZeQs7CCv7diZ1fEPQWUJY...</td>\n",
       "      <td>NaN</td>\n",
       "    </tr>\n",
       "    <tr>\n",
       "      <th>1</th>\n",
       "      <td>6315008</td>\n",
       "      <td>/ipfs/QmZDTiDxK8B97W8jYW4veosHNfmbFE785oX2fsKm...</td>\n",
       "      <td>NaN</td>\n",
       "    </tr>\n",
       "    <tr>\n",
       "      <th>2</th>\n",
       "      <td>6791936</td>\n",
       "      <td>/ipfs/QmRuaruxSRDJsJ4iG7wW1GPcb4nQmzJfcN3LzMP8...</td>\n",
       "      <td>NaN</td>\n",
       "    </tr>\n",
       "    <tr>\n",
       "      <th>3</th>\n",
       "      <td>6791936</td>\n",
       "      <td>/ipfs/QmRuaruxSRDJsJ4iG7wW1GPcb4nQmzJfcN3LzMP8...</td>\n",
       "      <td>NaN</td>\n",
       "    </tr>\n",
       "    <tr>\n",
       "      <th>4</th>\n",
       "      <td>6733568</td>\n",
       "      <td>/ipfs/QmZi1TC7VgA7iGKsnTF8FJyVZk7344Sxx22CpZAV...</td>\n",
       "      <td>NaN</td>\n",
       "    </tr>\n",
       "  </tbody>\n",
       "</table>\n",
       "</div>"
      ],
      "text/plain": [
       "        id                                                ref  path\n",
       "0  6555648  /ipfs/QmbVaMHLD82LQsDyXSiZeQs7CCv7diZ1fEPQWUJY...   NaN\n",
       "1  6315008  /ipfs/QmZDTiDxK8B97W8jYW4veosHNfmbFE785oX2fsKm...   NaN\n",
       "2  6791936  /ipfs/QmRuaruxSRDJsJ4iG7wW1GPcb4nQmzJfcN3LzMP8...   NaN\n",
       "3  6791936  /ipfs/QmRuaruxSRDJsJ4iG7wW1GPcb4nQmzJfcN3LzMP8...   NaN\n",
       "4  6733568  /ipfs/QmZi1TC7VgA7iGKsnTF8FJyVZk7344Sxx22CpZAV...   NaN"
      ]
     },
     "execution_count": 2,
     "metadata": {},
     "output_type": "execute_result"
    }
   ],
   "source": [
    "data = pd.read_csv('data/mscz-files.csv')\n",
    "print(data.shape)\n",
    "data.head()\n"
   ]
  },
  {
   "cell_type": "code",
   "execution_count": 3,
   "metadata": {},
   "outputs": [],
   "source": [
    "def musicxmlify(file_path):\n",
    "    return file_path.replace('.mscx','.musicxml').replace('mscx','sample')\n",
    "\n",
    "def download(ref):\n",
    "    return requests.get(\"https://dweb.link\"+ref,stream=True)\n",
    "    \n",
    "\n",
    "\n",
    "def load_data(file):\n",
    "    zip = zipfile.ZipFile(io.BytesIO(file.content))\n",
    "    filename = [f for f in zip.namelist() if f.endswith('.mscx')][0]\n",
    "    # check if file already exists\n",
    "    if os.path.exists(musicxmlify('mscx/'+filename)):\n",
    "        return False\n",
    "    with open('./mscx/'+filename, 'wb') as f:\n",
    "        f.write(zip.read(filename)) \n",
    "    return filename   "
   ]
  },
  {
   "cell_type": "code",
   "execution_count": 4,
   "metadata": {},
   "outputs": [],
   "source": [
    "import subprocess\n",
    "\n",
    "def convert(file):\n",
    "    # get absolute path of file\n",
    "\n",
    "    file_path = os.path.abspath('mscx/'+file)\n",
    "\n",
    "    new_file_path = musicxmlify(file_path)\n",
    "\n",
    "    command = subprocess.Popen([r'C:\\Program Files\\MuseScore 3\\bin\\MuseScore3.exe','-o',new_file_path,file_path],stdout=subprocess.PIPE)\n",
    "    command.communicate()\n"
   ]
  },
  {
   "cell_type": "code",
   "execution_count": 5,
   "metadata": {},
   "outputs": [],
   "source": [
    "def helper(arg):\n",
    "    file = load_data(download(arg))\n",
    "    if not file:\n",
    "        return\n",
    "    convert(file)\n",
    "    x=already_downloaded()\n",
    "    if x%10==0:\n",
    "        print(x,end='\\r',flush=True)"
   ]
  },
  {
   "cell_type": "code",
   "execution_count": 6,
   "metadata": {},
   "outputs": [],
   "source": [
    "def clear(folder_name):\n",
    "    # delete all files in folder\n",
    "    filelist = os.listdir(folder_name)\n",
    "    for f in filelist:\n",
    "        os.remove(os.path.join(folder_name, f))\n",
    "\n",
    "def already_downloaded():\n",
    "    return len(os.listdir(musicxmlify('mscx')))\n",
    "\n",
    "#clear('mscx')\n",
    "#clear('musicxml')"
   ]
  },
  {
   "cell_type": "code",
   "execution_count": 7,
   "metadata": {},
   "outputs": [
    {
     "name": "stdout",
     "output_type": "stream",
     "text": [
      "Downloading files...\n",
      "197901971018230187601955019710\r"
     ]
    }
   ],
   "source": [
    "from concurrent.futures import ThreadPoolExecutor,as_completed\n",
    "from tqdm import tqdm\n",
    "\n",
    "processes = []\n",
    "n=len(data['ref'])\n",
    "\n",
    "\n",
    "print('Downloading files...')\n",
    "with ThreadPoolExecutor(max_workers=100) as executor:\n",
    "\n",
    "    for url in data['ref'][:n]:\n",
    "        processes.append(executor.submit(helper, url))\n",
    "        \n",
    "\n",
    "print('Converting to MusicXML')\n",
    "print(f'Out of {n} files')\n",
    "for task in as_completed(processes):\n",
    "    try:\n",
    "        pass\n",
    "    except Exception as e:\n",
    "        print(e)"
   ]
  }
 ],
 "metadata": {
  "interpreter": {
   "hash": "22281edfb0df2bd9ec91abf7e2cbd5154dcbe09e7d1570b4fddd779f0de8ecda"
  },
  "kernelspec": {
   "display_name": "Python 3.8.5",
   "language": "python",
   "name": "python3"
  },
  "language_info": {
   "codemirror_mode": {
    "name": "ipython",
    "version": 3
   },
   "file_extension": ".py",
   "mimetype": "text/x-python",
   "name": "python",
   "nbconvert_exporter": "python",
   "pygments_lexer": "ipython3",
   "version": "3.8.5"
  },
  "orig_nbformat": 4
 },
 "nbformat": 4,
 "nbformat_minor": 2
}
